{
  "nbformat": 4,
  "nbformat_minor": 0,
  "metadata": {
    "colab": {
      "provenance": []
    },
    "kernelspec": {
      "name": "python3",
      "display_name": "Python 3"
    },
    "language_info": {
      "name": "python"
    }
  },
  "cells": [
    {
      "cell_type": "code",
      "source": [
        "choices = [\"Rock\", \"Paper\", \"Scissors\"]\n",
        "print(choices)\n"
      ],
      "metadata": {
        "colab": {
          "base_uri": "https://localhost:8080/"
        },
        "id": "BOwPLEUDVKdY",
        "outputId": "4cb93478-ab29-4e13-d33c-3812fcaeb707"
      },
      "execution_count": 1,
      "outputs": [
        {
          "output_type": "stream",
          "name": "stdout",
          "text": [
            "['Rock', 'Paper', 'Scissors']\n"
          ]
        }
      ]
    },
    {
      "cell_type": "code",
      "source": [
        "while True:\n",
        "   print(\"\\nGame Time: Rock Paper Scissors!\")\n",
        "   p1 = input(\"Player 1 pick rock, paper, or scissors: \").lower()\n",
        "  while p1 not in choices:\n",
        "        print(\"Not valid. Try again.\")\n",
        "        p1 = input(\"Player 1 pick rock, paper, or scissors: \").lower()\n",
        "   p2 = input(\"Player 2 pick rock, paper, or scissors: \").lower()\n",
        "  while p2 not in choices:\n",
        "        print(\"Not valid. Try again.\")\n",
        "        p2 = input(\"Player 2 pick rock, paper, or scissors: \").lower()\n",
        "\n",
        "   print(\"\\nPlayer 1 picked:\", p1)\n",
        "   print(\"Player 2 picked:\", p2)\n",
        "\n",
        "   if p1 == p2:\n",
        "    print(\"Tie!\")\n",
        "   elif\n"
      ],
      "metadata": {
        "colab": {
          "base_uri": "https://localhost:8080/",
          "height": 108
        },
        "id": "_gbkrvTDN_um",
        "outputId": "a7f2e70c-8c88-4382-9936-e5f11f309043"
      },
      "execution_count": 15,
      "outputs": [
        {
          "output_type": "error",
          "ename": "IndentationError",
          "evalue": "unindent does not match any outer indentation level (<tokenize>, line 4)",
          "traceback": [
            "\u001b[0;36m  File \u001b[0;32m\"<tokenize>\"\u001b[0;36m, line \u001b[0;32m4\u001b[0m\n\u001b[0;31m    while p1 not in choices:\u001b[0m\n\u001b[0m    ^\u001b[0m\n\u001b[0;31mIndentationError\u001b[0m\u001b[0;31m:\u001b[0m unindent does not match any outer indentation level\n"
          ]
        }
      ]
    },
    {
      "cell_type": "code",
      "source": [
        "\n",
        "while True:\n",
        "    print(\"\\nGame Time: Rock Paper Scissors!\")\n",
        "    p1 = input(\"Player 1 pick rock, paper, or scissors: \").lower()\n",
        "    while p1 not in choices:\n",
        "        print(\"Not valid. Try again.\")\n",
        "        p1 = input(\"Player 1 pick rock, paper, or scissors: \").lower()\n",
        "\n",
        "    p2 = input(\"Player 2 pick rock, paper, or scissors: \").lower()\n",
        "    while p2 not in choices:\n",
        "        print(\"Not valid. Try again.\")\n",
        "        p2 = input(\"Player 2 pick rock, paper, or scissors: \").lower()\n",
        "\n",
        "    print(\"\\nPlayer 1 picked:\", p1)\n",
        "    print(\"Player 2 picked:\", p2)\n",
        "\n",
        "    if p1 == p2:\n",
        "        print(\"Tie!\")\n",
        "    elif (p1 == \"rock\" and p2 == \"scissors\") or (p1 == \"scissors\" and p2 == \"paper\") or (p1 == \"paper\" and p2 == \"rock\"):\n",
        "        print(\"Player 1 wins!\")\n",
        "    else:\n",
        "        print(\"Player 2 wins!\")\n",
        "\n",
        "    again = input(\"Play again? (yes/no): \")\n",
        "    if again != \"no\":\n",
        "        print(\"Good game!\")\n",
        "\n",
        "\n"
      ],
      "metadata": {
        "colab": {
          "base_uri": "https://localhost:8080/"
        },
        "id": "R4c56xzTODb5",
        "outputId": "1e07785d-9426-4412-e979-54abc6e37d6b"
      },
      "execution_count": null,
      "outputs": [
        {
          "metadata": {
            "tags": null
          },
          "name": "stdout",
          "output_type": "stream",
          "text": [
            "\n",
            "Game Time: Rock Paper Scissors!\n",
            "\n",
            "Player 1 picked: rock\n",
            "Player 2 picked: paper\n",
            "Player 2 wins!\n",
            "\n",
            "Game Time: Rock Paper Scissors!\n"
          ]
        }
      ]
    }
  ]
}